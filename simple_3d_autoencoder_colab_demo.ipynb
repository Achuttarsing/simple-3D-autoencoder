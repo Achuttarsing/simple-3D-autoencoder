{
  "nbformat": 4,
  "nbformat_minor": 0,
  "metadata": {
    "colab": {
      "name": "simple_3d_autoencoder_colab_demo.ipynb",
      "provenance": [],
      "collapsed_sections": [],
      "authorship_tag": "ABX9TyMmSKznGmlwIJbA++rK/6f5",
      "include_colab_link": true
    },
    "kernelspec": {
      "name": "python2",
      "display_name": "Python 2"
    },
    "language_info": {
      "name": "python"
    },
    "accelerator": "GPU"
  },
  "cells": [
    {
      "cell_type": "markdown",
      "metadata": {
        "id": "view-in-github",
        "colab_type": "text"
      },
      "source": [
        "<a href=\"https://colab.research.google.com/github/Achuttarsing/simple_3d_autoencoder/blob/master/simple_3d_autoencoder_colab_demo.ipynb\" target=\"_parent\"><img src=\"https://colab.research.google.com/assets/colab-badge.svg\" alt=\"Open In Colab\"/></a>"
      ]
    },
    {
      "cell_type": "markdown",
      "metadata": {
        "id": "Yih5qmXSSWrU"
      },
      "source": [
        "### Clone repository"
      ]
    },
    {
      "cell_type": "code",
      "metadata": {
        "colab": {
          "base_uri": "https://localhost:8080/"
        },
        "id": "xKIzzk7J8wx5",
        "outputId": "2f337233-665d-4b79-dfc9-2578571fdb6f"
      },
      "source": [
        "!git clone https://github.com/Achuttarsing/simple_3d_autoencoder.git"
      ],
      "execution_count": 1,
      "outputs": [
        {
          "output_type": "stream",
          "text": [
            "Cloning into 'simple_3d_autoencoder'...\n",
            "remote: Enumerating objects: 79, done.\u001b[K\n",
            "remote: Counting objects: 100% (79/79), done.\u001b[K\n",
            "remote: Compressing objects: 100% (71/71), done.\u001b[K\n",
            "remote: Total 79 (delta 17), reused 57 (delta 6), pack-reused 0\u001b[K\n",
            "Unpacking objects: 100% (79/79), done.\n"
          ],
          "name": "stdout"
        }
      ]
    },
    {
      "cell_type": "markdown",
      "metadata": {
        "id": "IpHbitLnSdml"
      },
      "source": [
        "### Configure Google Colab"
      ]
    },
    {
      "cell_type": "code",
      "metadata": {
        "colab": {
          "base_uri": "https://localhost:8080/"
        },
        "id": "OwGnuTW39q_G",
        "outputId": "c272425a-70b6-4cd7-b26d-c7dda632de91"
      },
      "source": [
        "%tensorflow_version 1.x\n",
        "import sys\n",
        "import tensorflow\n",
        "print(tensorflow.__version__)\n",
        "%load_ext autoreload\n",
        "%autoreload 2\n",
        "%matplotlib inline"
      ],
      "execution_count": 2,
      "outputs": [
        {
          "output_type": "stream",
          "text": [
            "TensorFlow 1.x selected.\n",
            "1.15.2\n"
          ],
          "name": "stdout"
        },
        {
          "output_type": "stream",
          "text": [
            "WARNING: Logging before flag parsing goes to stderr.\n",
            "W0830 09:05:31.949875 140685703853952 module_wrapper.py:139] From /tensorflow-1.15.2/python2.7/tensorflow_estimator/python/estimator/api/_v1/estimator/__init__.py:12: The name tf.estimator.inputs is deprecated. Please use tf.compat.v1.estimator.inputs instead.\n",
            "\n"
          ],
          "name": "stderr"
        }
      ]
    },
    {
      "cell_type": "markdown",
      "metadata": {
        "id": "pcmIV18BSijq"
      },
      "source": [
        "### Get data (if you want to use the defaut chair dataset)"
      ]
    },
    {
      "cell_type": "code",
      "metadata": {
        "id": "b7KN8IyJ-EI3"
      },
      "source": [
        "%cd simple_3d_autoencoder/\n",
        "!./download_data.sh"
      ],
      "execution_count": null,
      "outputs": []
    },
    {
      "cell_type": "markdown",
      "metadata": {
        "id": "SCiHdCquS1K2"
      },
      "source": [
        "### Import the library"
      ]
    },
    {
      "cell_type": "code",
      "metadata": {
        "id": "u9jKE_HX88Au",
        "outputId": "79d47282-9075-4527-a6f8-a443e6c98fd4",
        "colab": {
          "base_uri": "https://localhost:8080/"
        }
      },
      "source": [
        "%cd ..\n",
        "import os.path as osp\n",
        "\n",
        "from simple_3d_autoencoder.src.ae_templates import mlp_architecture_ala_iclr_18, default_train_params\n",
        "from simple_3d_autoencoder.src.autoencoder import Configuration as Conf\n",
        "from simple_3d_autoencoder.src.point_net_ae import PointNetAutoEncoder\n",
        "\n",
        "from simple_3d_autoencoder.src.in_out import snc_category_to_synth_id, create_dir, PointCloudDataSet, \\\n",
        "                                        load_all_point_clouds_under_folder\n",
        "\n",
        "from simple_3d_autoencoder.src.tf_utils import reset_tf_graph\n",
        "from simple_3d_autoencoder.src.general_utils import plot_3d_point_cloud"
      ],
      "execution_count": 6,
      "outputs": [
        {
          "output_type": "stream",
          "text": [
            "W0830 09:07:23.470408 140685703853952 module_wrapper.py:139] From /tensorflow-1.15.2/python2.7/tflearn/helpers/summarizer.py:9: The name tf.summary.merge is deprecated. Please use tf.compat.v1.summary.merge instead.\n",
            "\n",
            "W0830 09:07:23.471328 140685703853952 module_wrapper.py:139] From /tensorflow-1.15.2/python2.7/tflearn/helpers/trainer.py:25: The name tf.summary.FileWriter is deprecated. Please use tf.compat.v1.summary.FileWriter instead.\n",
            "\n",
            "W0830 09:07:23.482604 140685703853952 module_wrapper.py:139] From /tensorflow-1.15.2/python2.7/tflearn/collections.py:13: The name tf.GraphKeys is deprecated. Please use tf.compat.v1.GraphKeys instead.\n",
            "\n",
            "W0830 09:07:23.489850 140685703853952 module_wrapper.py:139] From /tensorflow-1.15.2/python2.7/tflearn/config.py:123: The name tf.get_collection is deprecated. Please use tf.compat.v1.get_collection instead.\n",
            "\n",
            "W0830 09:07:23.511291 140685703853952 module_wrapper.py:139] From /tensorflow-1.15.2/python2.7/tflearn/config.py:129: The name tf.add_to_collection is deprecated. Please use tf.compat.v1.add_to_collection instead.\n",
            "\n",
            "W0830 09:07:23.511599 140685703853952 module_wrapper.py:139] From /tensorflow-1.15.2/python2.7/tflearn/config.py:131: The name tf.assign is deprecated. Please use tf.compat.v1.assign instead.\n",
            "\n"
          ],
          "name": "stderr"
        },
        {
          "output_type": "stream",
          "text": [
            "/content\n"
          ],
          "name": "stdout"
        }
      ]
    },
    {
      "cell_type": "markdown",
      "metadata": {
        "id": "vT0XpvrxS6XF"
      },
      "source": [
        "### Configure data"
      ]
    },
    {
      "cell_type": "code",
      "metadata": {
        "colab": {
          "base_uri": "https://localhost:8080/"
        },
        "id": "uEM5pHSP-Fie",
        "outputId": "ef46dab3-137a-49a8-ae63-92eb89d871a2"
      },
      "source": [
        "top_out_dir = 'simple_3d_autoencoder/data/'          # Use to save Neural-Net check-points etc.\n",
        "top_in_dir = 'simple_3d_autoencoder/data/shape_net_core_uniform_samples_2048/' # Top-dir of where point-clouds are stored.\n",
        "\n",
        "experiment_name = 'single_class_ae'\n",
        "n_pc_points = 2048                # Number of points per model.\n",
        "bneck_size = 128                  # Bottleneck-AE size\n",
        "ae_loss = 'chamfer'                   # Loss to optimize: 'emd' or 'chamfer'\n",
        "class_name = raw_input('Give me the class name (e.g. \"chair\"): ').lower()"
      ],
      "execution_count": 7,
      "outputs": [
        {
          "output_type": "stream",
          "text": [
            "Give me the class name (e.g. \"chair\"): chair\n"
          ],
          "name": "stdout"
        }
      ]
    },
    {
      "cell_type": "code",
      "metadata": {
        "colab": {
          "base_uri": "https://localhost:8080/"
        },
        "id": "msbYEqXV-Y4A",
        "outputId": "e9d9bc5b-33e0-4f1d-a838-59e75d518669"
      },
      "source": [
        "syn_id = snc_category_to_synth_id()[class_name]\n",
        "class_dir = osp.join(top_in_dir , syn_id)\n",
        "all_pc_data = load_all_point_clouds_under_folder(class_dir, n_threads=8, file_ending='.ply', verbose=True)"
      ],
      "execution_count": 8,
      "outputs": [
        {
          "output_type": "stream",
          "text": [
            "6778 pclouds were loaded. They belong in 1 shape-classes.\n"
          ],
          "name": "stdout"
        }
      ]
    },
    {
      "cell_type": "markdown",
      "metadata": {
        "id": "4jc3w8miTBj5"
      },
      "source": [
        "### Configure Training"
      ]
    },
    {
      "cell_type": "code",
      "metadata": {
        "colab": {
          "base_uri": "https://localhost:8080/"
        },
        "id": "SF4qudav-eoD",
        "outputId": "9f086bfc-ac21-4eb2-eb27-fe998865c835"
      },
      "source": [
        "train_params = default_train_params()\n",
        "train_params['training_epochs'] = 10\n",
        "train_params"
      ],
      "execution_count": 9,
      "outputs": [
        {
          "output_type": "execute_result",
          "data": {
            "text/plain": [
              "{'batch_size': 50,\n",
              " 'denoising': False,\n",
              " 'learning_rate': 0.0005,\n",
              " 'loss_display_step': 1,\n",
              " 'saver_step': 10,\n",
              " 'training_epochs': 10,\n",
              " 'z_rotate': False}"
            ]
          },
          "metadata": {},
          "execution_count": 9
        }
      ]
    },
    {
      "cell_type": "code",
      "metadata": {
        "id": "_ssoBFrz-kj9"
      },
      "source": [
        "encoder, decoder, enc_args, dec_args = mlp_architecture_ala_iclr_18(n_pc_points, bneck_size)\n",
        "train_dir = create_dir(osp.join(top_out_dir, experiment_name))"
      ],
      "execution_count": 10,
      "outputs": []
    },
    {
      "cell_type": "code",
      "metadata": {
        "id": "rBd3C0cp-q1m"
      },
      "source": [
        "conf = Conf(n_input = [n_pc_points, 3],\n",
        "            loss = ae_loss,\n",
        "            training_epochs = train_params['training_epochs'],\n",
        "            batch_size = train_params['batch_size'],\n",
        "            denoising = train_params['denoising'],\n",
        "            learning_rate = train_params['learning_rate'],\n",
        "            train_dir = train_dir,\n",
        "            loss_display_step = train_params['loss_display_step'],\n",
        "            saver_step = train_params['saver_step'],\n",
        "            z_rotate = train_params['z_rotate'],\n",
        "            encoder = encoder,\n",
        "            decoder = decoder,\n",
        "            encoder_args = enc_args,\n",
        "            decoder_args = dec_args\n",
        "           )\n",
        "conf.experiment_name = experiment_name\n",
        "conf.held_out_step = 5   # How often to evaluate/print out loss on \n",
        "                         # held_out data (if they are provided in ae.train() ).\n",
        "conf.save(osp.join(train_dir, 'configuration'))"
      ],
      "execution_count": 11,
      "outputs": []
    },
    {
      "cell_type": "markdown",
      "metadata": {
        "id": "Wpuf7V1STL4P"
      },
      "source": [
        "### Load model checkpoint (if possible)"
      ]
    },
    {
      "cell_type": "code",
      "metadata": {
        "id": "FUy2jK70-rcV"
      },
      "source": [
        "load_pre_trained_ae = False\n",
        "restore_epoch = 500\n",
        "if load_pre_trained_ae:\n",
        "    conf = Conf.load(train_dir + '/configuration')\n",
        "    reset_tf_graph()\n",
        "    ae = PointNetAutoEncoder(conf.experiment_name, conf)\n",
        "    ae.restore_model(conf.train_dir, epoch=restore_epoch)"
      ],
      "execution_count": 12,
      "outputs": []
    },
    {
      "cell_type": "markdown",
      "metadata": {
        "id": "oDNNNk23TGWv"
      },
      "source": [
        "### Train the model"
      ]
    },
    {
      "cell_type": "code",
      "metadata": {
        "colab": {
          "base_uri": "https://localhost:8080/"
        },
        "id": "v5BObucj-uC8",
        "outputId": "8d2304ad-775a-4003-fa1e-0528ad976485"
      },
      "source": [
        "reset_tf_graph()\n",
        "ae = PointNetAutoEncoder(conf.experiment_name, conf)"
      ],
      "execution_count": 13,
      "outputs": [
        {
          "output_type": "stream",
          "text": [
            "W0830 09:08:08.911349 140685703853952 module_wrapper.py:139] From simple_3d_autoencoder/src/tf_utils.py:39: The name tf.reset_default_graph is deprecated. Please use tf.compat.v1.reset_default_graph instead.\n",
            "\n",
            "W0830 09:08:08.913021 140685703853952 module_wrapper.py:139] From simple_3d_autoencoder/src/neural_net.py:17: The name tf.get_default_graph is deprecated. Please use tf.compat.v1.get_default_graph instead.\n",
            "\n",
            "W0830 09:08:08.916965 140685703853952 module_wrapper.py:139] From simple_3d_autoencoder/src/neural_net.py:22: The name tf.variable_scope is deprecated. Please use tf.compat.v1.variable_scope instead.\n",
            "\n",
            "W0830 09:08:08.918906 140685703853952 module_wrapper.py:139] From simple_3d_autoencoder/src/neural_net.py:24: The name tf.get_variable is deprecated. Please use tf.compat.v1.get_variable instead.\n",
            "\n",
            "W0830 09:08:08.929960 140685703853952 module_wrapper.py:139] From simple_3d_autoencoder/src/autoencoder.py:99: The name tf.placeholder is deprecated. Please use tf.compat.v1.placeholder instead.\n",
            "\n",
            "W0830 09:08:08.933486 140685703853952 deprecation.py:506] From /tensorflow-1.15.2/python2.7/tflearn/initializations.py:119: calling __init__ (from tensorflow.python.ops.init_ops) with dtype is deprecated and will be removed in a future version.\n",
            "Instructions for updating:\n",
            "Call initializer instance with the dtype argument instead of passing it to the constructor\n",
            "W0830 09:08:08.934742 140685703853952 deprecation.py:323] From /tensorflow-1.15.2/python2.7/tensorflow_core/python/util/deprecation.py:507: __init__ (from tensorflow.python.ops.init_ops) is deprecated and will be removed in a future version.\n",
            "Instructions for updating:\n",
            "Use tf.initializers.variance_scaling instead with distribution=uniform to get equivalent behavior.\n"
          ],
          "name": "stderr"
        },
        {
          "output_type": "stream",
          "text": [
            "Building Encoder\n",
            "encoder_conv_layer_0 conv params =  256 bnorm params =  128\n",
            "Tensor(\"single_class_ae_2/Relu:0\", shape=(?, 2048, 64), dtype=float32)\n",
            "output size: 131072 \n",
            "\n",
            "encoder_conv_layer_1 conv params =  8320 bnorm params =  256\n",
            "Tensor(\"single_class_ae_2/Relu_1:0\", shape=(?, 2048, 128), dtype=float32)\n",
            "output size: 262144 \n",
            "\n",
            "encoder_conv_layer_2 conv params =  16512"
          ],
          "name": "stdout"
        },
        {
          "output_type": "stream",
          "text": [
            "W0830 09:08:09.319413 140685703853952 module_wrapper.py:139] From simple_3d_autoencoder/src/point_net_ae.py:46: The name tf.train.Saver is deprecated. Please use tf.compat.v1.train.Saver instead.\n",
            "\n",
            "W0830 09:08:09.322851 140685703853952 module_wrapper.py:139] From simple_3d_autoencoder/src/point_net_ae.py:46: The name tf.global_variables is deprecated. Please use tf.compat.v1.global_variables instead.\n",
            "\n"
          ],
          "name": "stderr"
        },
        {
          "output_type": "stream",
          "text": [
            " bnorm params =  256\n",
            "Tensor(\"single_class_ae_2/Relu_2:0\", shape=(?, 2048, 128), dtype=float32)\n",
            "output size: 262144 \n",
            "\n",
            "encoder_conv_layer_3 conv params =  33024 bnorm params =  512\n",
            "Tensor(\"single_class_ae_2/Relu_3:0\", shape=(?, 2048, 256), dtype=float32)\n",
            "output size: 524288 \n",
            "\n",
            "encoder_conv_layer_4 conv params =  32896 bnorm params =  256\n",
            "Tensor(\"single_class_ae_2/Relu_4:0\", shape=(?, 2048, 128), dtype=float32)\n",
            "output size: 262144 \n",
            "\n",
            "Tensor(\"single_class_ae_2/Max:0\", shape=(?, 128), dtype=float32)\n",
            "Building Decoder\n",
            "decoder_fc_0 FC params =  33024 Tensor(\"single_class_ae_2/Relu_5:0\", shape=(?, 256), dtype=float32)\n",
            "output size: 256 \n",
            "\n",
            "decoder_fc_1 FC params =  65792 Tensor(\"single_class_ae_2/Relu_6:0\", shape=(?, 256), dtype=float32)\n",
            "output size: 256 \n",
            "\n",
            "decoder_fc_2 FC params =  1579008 Tensor(\"single_class_ae_2/decoder_fc_2/BiasAdd:0\", shape=(?, 6144), dtype=float32)\n",
            "output size: 6144 \n",
            "\n"
          ],
          "name": "stdout"
        },
        {
          "output_type": "stream",
          "text": [
            "W0830 09:08:09.377254 140685703853952 module_wrapper.py:139] From simple_3d_autoencoder/src/point_net_ae.py:98: The name tf.train.AdamOptimizer is deprecated. Please use tf.compat.v1.train.AdamOptimizer instead.\n",
            "\n",
            "W0830 09:08:10.220890 140685703853952 module_wrapper.py:139] From simple_3d_autoencoder/src/point_net_ae.py:57: The name tf.ConfigProto is deprecated. Please use tf.compat.v1.ConfigProto instead.\n",
            "\n",
            "W0830 09:08:10.222472 140685703853952 module_wrapper.py:139] From simple_3d_autoencoder/src/point_net_ae.py:61: The name tf.summary.merge_all is deprecated. Please use tf.compat.v1.summary.merge_all instead.\n",
            "\n",
            "W0830 09:08:10.404705 140685703853952 module_wrapper.py:139] From simple_3d_autoencoder/src/point_net_ae.py:65: The name tf.global_variables_initializer is deprecated. Please use tf.compat.v1.global_variables_initializer instead.\n",
            "\n",
            "W0830 09:08:10.411845 140685703853952 module_wrapper.py:139] From simple_3d_autoencoder/src/point_net_ae.py:68: The name tf.Session is deprecated. Please use tf.compat.v1.Session instead.\n",
            "\n"
          ],
          "name": "stderr"
        }
      ]
    },
    {
      "cell_type": "code",
      "metadata": {
        "colab": {
          "base_uri": "https://localhost:8080/"
        },
        "id": "jTqU11_W-x4B",
        "outputId": "29fcbb20-383c-47e2-a989-3ee0da86aded"
      },
      "source": [
        "buf_size = 1 # Make 'training_stats' file to flush each output line regarding training.\n",
        "fout = open(osp.join(conf.train_dir, 'train_stats.txt'), 'a', buf_size)\n",
        "train_stats = ae.train(all_pc_data, conf, log_file=fout)\n",
        "fout.close()"
      ],
      "execution_count": 14,
      "outputs": [
        {
          "output_type": "stream",
          "text": [
            "('Epoch:', '0001', 'training time (minutes)=', '0.1681', 'loss=', '0.004195954')\n",
            "('Epoch:', '0002', 'training time (minutes)=', '0.1064', 'loss=', '0.001711766')\n",
            "('Epoch:', '0003', 'training time (minutes)=', '0.1062', 'loss=', '0.001486035')\n",
            "('Epoch:', '0004', 'training time (minutes)=', '0.1057', 'loss=', '0.001388567')\n",
            "('Epoch:', '0005', 'training time (minutes)=', '0.1058', 'loss=', '0.001279980')\n",
            "('Epoch:', '0006', 'training time (minutes)=', '0.1056', 'loss=', '0.001215742')\n",
            "('Epoch:', '0007', 'training time (minutes)=', '0.1058', 'loss=', '0.001146428')\n",
            "('Epoch:', '0008', 'training time (minutes)=', '0.1056', 'loss=', '0.001112840')\n",
            "('Epoch:', '0009', 'training time (minutes)=', '0.1055', 'loss=', '0.001074166')\n",
            "('Epoch:', '0010', 'training time (minutes)=', '0.1055', 'loss=', '0.001036389')\n"
          ],
          "name": "stdout"
        }
      ]
    },
    {
      "cell_type": "markdown",
      "metadata": {
        "id": "SbmYSfckTVLr"
      },
      "source": [
        "### Try the trained autoencoder"
      ]
    },
    {
      "cell_type": "code",
      "metadata": {
        "colab": {
          "base_uri": "https://localhost:8080/",
          "height": 603
        },
        "id": "ux1G4rx8-2P8",
        "outputId": "4702b789-895b-4d31-e71d-f7fe7d397f9a"
      },
      "source": [
        "# feed_pc -> list of 3D point cloud\n",
        "feed_pc, feed_model_names, _ = all_pc_data.next_batch(1)\n",
        "for i in range(1):\n",
        "    plot_3d_point_cloud(feed_pc[i][:, 0], \n",
        "                    feed_pc[i][:, 1], \n",
        "                    feed_pc[i][:, 2], in_u_sphere=True);\n",
        "\n",
        "# encode \n",
        "latent_codes = ae.transform(feed_pc)\n",
        "\n",
        "# decode \n",
        "reconstructions = ae.decode(latent_codes)\n",
        "for i in range(1):\n",
        "    plot_3d_point_cloud(reconstructions[i][:, 0], \n",
        "                    reconstructions[i][:, 1], \n",
        "                    reconstructions[i][:, 2], in_u_sphere=True);"
      ],
      "execution_count": 15,
      "outputs": [
        {
          "output_type": "display_data",
          "data": {
            "image/png": "[encoded data removed]",
            "text/plain": [
              "<Figure size 360x360 with 1 Axes>"
            ]
          },
          "metadata": {
            "needs_background": "light"
          }
        },
        {
          "output_type": "display_data",
          "data": {
            "image/png": "[encoded data removed]",
            "text/plain": [
              "<Figure size 360x360 with 1 Axes>"
            ]
          },
          "metadata": {
            "needs_background": "light"
          }
        }
      ]
    }
  ]
}